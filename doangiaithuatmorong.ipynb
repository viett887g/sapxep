{
  "nbformat": 4,
  "nbformat_minor": 0,
  "metadata": {
    "colab": {
      "name": "doangiaithuatmorong.ipynb",
      "provenance": [],
      "collapsed_sections": [],
      "authorship_tag": "ABX9TyN5EryOfvHILLUT1Wk8Ooqn",
      "include_colab_link": true
    },
    "kernelspec": {
      "name": "python3",
      "display_name": "Python 3"
    },
    "language_info": {
      "name": "python"
    }
  },
  "cells": [
    {
      "cell_type": "markdown",
      "metadata": {
        "id": "view-in-github",
        "colab_type": "text"
      },
      "source": [
        "<a href=\"https://colab.research.google.com/github/viett887g/sapxep/blob/main/doangiaithuatmorong.ipynb\" target=\"_parent\"><img src=\"https://colab.research.google.com/assets/colab-badge.svg\" alt=\"Open In Colab\"/></a>"
      ]
    },
    {
      "cell_type": "markdown",
      "source": [
        "Mở rộng"
      ],
      "metadata": {
        "id": "l6edhSzSYakA"
      }
    },
    {
      "cell_type": "markdown",
      "source": [
        "BT16. Cài đặt thuật toán sắp xếp nổi bọt"
      ],
      "metadata": {
        "id": "SLaqX1beY8Vw"
      }
    },
    {
      "cell_type": "code",
      "execution_count": null,
      "metadata": {
        "id": "r7PJedtHYINL"
      },
      "outputs": [],
      "source": [
        "import random as rd"
      ]
    },
    {
      "cell_type": "code",
      "source": [
        "def san_sinh_mang(n):\n",
        "  mang=[]\n",
        "  for i in range(n):\n",
        "    so_ngau_nhien= rd.randint(0,100)\n",
        "    mang.append(so_ngau_nhien)\n",
        "  \n",
        "  return mang\n",
        "def sap_xep_noi_bot(mang):\n",
        "  n=len(mang)\n",
        "  for i in range(n):\n",
        "    for j in range(n-2,i-1,-1):\n",
        "      if mang[j]> mang[j+1]:\n",
        "        mang[j],mang[j+1]= mang[j+1],mang[j]\n",
        "    print(i+1,\"-\",mang)\n",
        "def main():\n",
        "  mang= san_sinh_mang(10)\n",
        "  print(\"mang ban dau la\",mang)\n",
        "  sap_xep_noi_bot(mang)\n",
        "  print(\"mang sau khi sap xep la\",mang)\n",
        "\n",
        "if __name__==\"__main__\":\n",
        "  main()"
      ],
      "metadata": {
        "colab": {
          "base_uri": "https://localhost:8080/"
        },
        "id": "WO5EgMCRZIyM",
        "outputId": "2235a06a-b9a1-4fd8-e963-979892f5499d"
      },
      "execution_count": null,
      "outputs": [
        {
          "output_type": "stream",
          "name": "stdout",
          "text": [
            "mang ban dau la [55, 53, 52, 20, 63, 6, 23, 50, 30, 19]\n",
            "1 - [6, 55, 53, 52, 20, 63, 19, 23, 50, 30]\n",
            "2 - [6, 19, 55, 53, 52, 20, 63, 23, 30, 50]\n",
            "3 - [6, 19, 20, 55, 53, 52, 23, 63, 30, 50]\n",
            "4 - [6, 19, 20, 23, 55, 53, 52, 30, 63, 50]\n",
            "5 - [6, 19, 20, 23, 30, 55, 53, 52, 50, 63]\n",
            "6 - [6, 19, 20, 23, 30, 50, 55, 53, 52, 63]\n",
            "7 - [6, 19, 20, 23, 30, 50, 52, 55, 53, 63]\n",
            "8 - [6, 19, 20, 23, 30, 50, 52, 53, 55, 63]\n",
            "9 - [6, 19, 20, 23, 30, 50, 52, 53, 55, 63]\n",
            "10 - [6, 19, 20, 23, 30, 50, 52, 53, 55, 63]\n",
            "mang sau khi sap xep la [6, 19, 20, 23, 30, 50, 52, 53, 55, 63]\n"
          ]
        }
      ]
    },
    {
      "cell_type": "markdown",
      "source": [
        "BT15.  Cài đặt thuật toán sắp xếp chèn"
      ],
      "metadata": {
        "id": "UE_2GFnjfX_j"
      }
    },
    {
      "cell_type": "code",
      "source": [
        "def san_sinh_mang(n):\n",
        "  mang=[]\n",
        "  for i in range(n):\n",
        "    so_ngau_nhien= rd.randint(0,100)\n",
        "    mang.append(so_ngau_nhien)\n",
        "  return mang\n",
        "\n",
        "def sap_xep_chen(mang):\n",
        "  n=len(mang)\n",
        "  for i in range(1,n):\n",
        "    tam = mang[i]\n",
        "    j=i\n",
        "    while j>0 and mang[j-1]>tam:\n",
        "      mang[j]>mang[j-1]\n",
        "      j=j-1\n",
        "    mang[j]=tam\n",
        "    print(i,\"-\",mang)\n",
        "def main():\n",
        "  mang=san_sinh_mang(10)\n",
        "  print(\"mang ban dau la\",mang)\n",
        "  sap_xep_chen(mang)\n",
        "  print(\"sau khi sap xep la\",mang)\n",
        "\n",
        "if __name__==\"__main__\":\n",
        "  main()"
      ],
      "metadata": {
        "id": "aXXgc37sbxXK",
        "colab": {
          "base_uri": "https://localhost:8080/"
        },
        "outputId": "a2ecd9cc-dd80-42ee-d54c-d4f1f6989e90"
      },
      "execution_count": null,
      "outputs": [
        {
          "output_type": "stream",
          "name": "stdout",
          "text": [
            "mang ban dau la [94, 32, 69, 24, 100, 88, 77, 54, 26, 7]\n",
            "1 - [32, 32, 69, 24, 100, 88, 77, 54, 26, 7]\n",
            "2 - [32, 32, 69, 24, 100, 88, 77, 54, 26, 7]\n",
            "3 - [24, 32, 69, 24, 100, 88, 77, 54, 26, 7]\n",
            "4 - [24, 32, 69, 24, 100, 88, 77, 54, 26, 7]\n",
            "5 - [24, 32, 69, 24, 88, 88, 77, 54, 26, 7]\n",
            "6 - [24, 32, 69, 24, 77, 88, 77, 54, 26, 7]\n",
            "7 - [24, 32, 69, 24, 54, 88, 77, 54, 26, 7]\n",
            "8 - [24, 32, 69, 24, 26, 88, 77, 54, 26, 7]\n",
            "9 - [7, 32, 69, 24, 26, 88, 77, 54, 26, 7]\n",
            "sau khi sap xep la [7, 32, 69, 24, 26, 88, 77, 54, 26, 7]\n"
          ]
        }
      ]
    },
    {
      "cell_type": "markdown",
      "source": [
        "BT14.  Cài đặt thuật toán sắp xếp chọn"
      ],
      "metadata": {
        "id": "aFHQnylzmjKA"
      }
    },
    {
      "cell_type": "code",
      "source": [
        "def san_sinh_mang(n):\n",
        "  mang=[]\n",
        "  for i in range(n):\n",
        "    so_ngau_nhien= rd.randint(0,100)\n",
        "    mang.append(so_ngau_nhien)\n",
        "  return mang\n",
        "\n",
        "def sap_xep_chon(mang):\n",
        "  n=len(mang)\n",
        "  for i in range(n-1):\n",
        "    for j in range(i,n):\n",
        "      if mang[i]>mang[j]:\n",
        "        mang[i],mang[j]=mang[j],mang[i]\n",
        "    print(i+1,\"-\",mang)\n",
        "def main():\n",
        "  mang= san_sinh_mang(10)\n",
        "  print(\"mang ban dau la \", mang)\n",
        "  sap_xep_chon(mang)\n",
        "  print(\"mang sau khi sap xep la\",mang)\n",
        "if __name__== \"__main__\":\n",
        "  main()\n",
        "\n",
        "\n"
      ],
      "metadata": {
        "colab": {
          "base_uri": "https://localhost:8080/"
        },
        "id": "7vo9RCy7mjve",
        "outputId": "f8206c18-f44a-4faf-9b5d-cad016b823fc"
      },
      "execution_count": null,
      "outputs": [
        {
          "output_type": "stream",
          "name": "stdout",
          "text": [
            "mang ban dau la  [33, 91, 42, 62, 87, 99, 38, 30, 92, 16]\n",
            "1 - [16, 91, 42, 62, 87, 99, 38, 33, 92, 30]\n",
            "2 - [16, 30, 91, 62, 87, 99, 42, 38, 92, 33]\n",
            "3 - [16, 30, 33, 91, 87, 99, 62, 42, 92, 38]\n",
            "4 - [16, 30, 33, 38, 91, 99, 87, 62, 92, 42]\n",
            "5 - [16, 30, 33, 38, 42, 99, 91, 87, 92, 62]\n",
            "6 - [16, 30, 33, 38, 42, 62, 99, 91, 92, 87]\n",
            "7 - [16, 30, 33, 38, 42, 62, 87, 99, 92, 91]\n",
            "8 - [16, 30, 33, 38, 42, 62, 87, 91, 99, 92]\n",
            "9 - [16, 30, 33, 38, 42, 62, 87, 91, 92, 99]\n",
            "mang sau khi sap xep la [16, 30, 33, 38, 42, 62, 87, 91, 92, 99]\n"
          ]
        }
      ]
    },
    {
      "cell_type": "markdown",
      "source": [
        "BT17.  Cài đặt thuật toán sắp xếp nhanh - quick sort"
      ],
      "metadata": {
        "id": "6dpo3OTvwMAe"
      }
    },
    {
      "cell_type": "code",
      "source": [
        "def san_sinh_mang(n):\n",
        "  mang=[]\n",
        "  for i in range(n):\n",
        "    so_ngau_nhien= rd.randint(0,100)\n",
        "    mang.append(so_ngau_nhien)\n",
        "  return mang\n",
        "def phan_vung(mang,duoi,tren):\n",
        "  i= duoi-1\n",
        "  moc= mang[tren]\n",
        "  for j in range(duoi,tren):\n",
        "    if mang[j] < moc :\n",
        "      i=i+1\n",
        "      mang[i],mang[j]=mang[j],mang[i]\n",
        "  mang[i+1],mang[tren]=mang[tren],mang[i+1]\n",
        "  return i+1\n",
        "def sap_xep_nhanh(mang,duoi,tren):\n",
        "  if duoi<tren:\n",
        "    vi_tri= phan_vung(mang,duoi,tren)\n",
        "    sap_xep_nhanh(mang,duoi,vi_tri-1)\n",
        "    sap_xep_nhanh(mang,vi_tri +1,tren)\n",
        "def main():\n",
        "  mang= san_sinh_mang(10)\n",
        "  print(\"mang chua sap xep la\",mang)\n",
        "  sap_xep_nhanh(mang,0,len(mang)-1)\n",
        "  print(\"mang sau khi sap xep la\", mang)\n",
        "\n",
        "if __name__==\"__main__\":\n",
        "  main()"
      ],
      "metadata": {
        "colab": {
          "base_uri": "https://localhost:8080/"
        },
        "id": "2I4MJ424wLpv",
        "outputId": "c6585d3e-0147-44d1-9e26-12d3d00bd99b"
      },
      "execution_count": null,
      "outputs": [
        {
          "output_type": "stream",
          "name": "stdout",
          "text": [
            "mang chua sap xep la [65, 26, 27, 13, 90, 38, 83, 70, 77, 68]\n",
            "mang sau khi sap xep la [13, 26, 27, 38, 65, 68, 70, 77, 83, 90]\n"
          ]
        }
      ]
    },
    {
      "cell_type": "markdown",
      "source": [
        "BT18.  Cài đặt thuật toán heap sort"
      ],
      "metadata": {
        "id": "_gG7QWPXn9WI"
      }
    },
    {
      "cell_type": "code",
      "source": [
        "def mang(arr, n, i): \n",
        "    largest = i \n",
        "    trai = 2 * i + 1    \n",
        "    phai = 2 * i + 2     \n",
        "    if trai < n and arr[i] < arr[trai]: \n",
        "        largest = trai  \n",
        "    if phai < n and arr[largest] < arr[phai]: \n",
        "        largest = phai \n",
        "    if largest != i: \n",
        "        arr[i],arr[largest] = arr[largest],arr[i]\n",
        "        mang(arr, n, largest) \n",
        "def heapSort(arr): \n",
        "    n = len(arr) \n",
        "    for i in range(n//2 - 1, -1, -1): \n",
        "        mang(arr, n, i) \n",
        "    for i in range(n-1, 0, -1): \n",
        "        arr[i], arr[0] = arr[0], arr[i]\n",
        "        mang(arr, i, 0) \n",
        "arr = [int(x) for x in input().split()]\n",
        "heapSort(arr) \n",
        "n = len(arr) \n",
        "print (\"sau khi sap xep la\") \n",
        "for i in range(n): \n",
        "    print (\"%d\" %arr[i])"
      ],
      "metadata": {
        "colab": {
          "base_uri": "https://localhost:8080/"
        },
        "id": "yZcu2Hucn6th",
        "outputId": "d355b8bd-1bd7-490b-9811-8289ae055c16"
      },
      "execution_count": 1,
      "outputs": [
        {
          "output_type": "stream",
          "name": "stdout",
          "text": [
            "12 1 41 5 61 77 22 4 1 5 61\n",
            "sau khi sap xep la\n",
            "1\n",
            "1\n",
            "4\n",
            "5\n",
            "5\n",
            "12\n",
            "22\n",
            "41\n",
            "61\n",
            "61\n",
            "77\n"
          ]
        }
      ]
    },
    {
      "cell_type": "markdown",
      "source": [
        "B19 Cài đặt thuật toán sắp xếp trộn - merge sort"
      ],
      "metadata": {
        "id": "_42KZC5W1or6"
      }
    },
    {
      "cell_type": "code",
      "source": [
        "def san_sinh_mang(n):\n",
        "  mang=[]\n",
        "  for i in range(n):\n",
        "    so_ngau_nhien= rd.randint(0,100)\n",
        "    mang.append(so_ngau_nhien)\n",
        "  return mang\n",
        "def sap_xep_tron(mang):\n",
        "  if len(mang)>1:\n",
        "    giua= len(mang)//2\n",
        "    mang_trai= mang[0:giua]\n",
        "    mang_phai=mang[giua:]\n",
        "\n",
        "    sap_xep_tron(mang_trai)\n",
        "    sap_xep_tron(mang_phai)\n",
        "    i=j=k=0\n",
        "    while(i<len(mang_trai) and j <len(mang_phai)):\n",
        "      if mang_trai[i]<mang_trai[j]:\n",
        "        mang[k]=mang_trai[i]\n",
        "        i=i+1\n",
        "      else:\n",
        "        mang[k]=mang_trai[j]\n",
        "        j=j+1\n",
        "      while i<len(mang_trai):\n",
        "        mang[k]=mang_trai[i]\n",
        "        i=i+1\n",
        "        k=k+1\n",
        "      while j<len(mang_phai):\n",
        "        mang[k]=mang_phai[j]\n",
        "        j=j+1\n",
        "        k=k+1\n",
        "\n",
        "def main():\n",
        "  mang=san_sinh_mang(10)\n",
        "  print(\"mang ban dau la\", mang)\n",
        "  sap_xep_tron(mang)\n",
        "  print(\"mang sau khi sap xep la\",mang)\n",
        "if __name__==\"__main__\":\n",
        "  main()\n"
      ],
      "metadata": {
        "colab": {
          "base_uri": "https://localhost:8080/"
        },
        "id": "bnbm-PJW1ipY",
        "outputId": "5cea2809-be01-49be-edda-aedf6919dd87"
      },
      "execution_count": null,
      "outputs": [
        {
          "output_type": "stream",
          "name": "stdout",
          "text": [
            "mang ban dau la [39, 32, 57, 5, 20, 31, 38, 6, 45, 36]\n",
            "mang sau khi sap xep la [39, 32, 20, 20, 20, 38, 36, 36, 36, 36]\n"
          ]
        }
      ]
    },
    {
      "cell_type": "markdown",
      "source": [
        "BT18.  Cài đặt thuật toán heap sort"
      ],
      "metadata": {
        "id": "HTUNXcxE4N2V"
      }
    },
    {
      "cell_type": "code",
      "source": [
        ""
      ],
      "metadata": {
        "id": "KjizwVDQ4O8c"
      },
      "execution_count": null,
      "outputs": []
    }
  ]
}